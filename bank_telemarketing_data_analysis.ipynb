{
 "cells": [
  {
   "cell_type": "markdown",
   "metadata": {},
   "source": [
    "# Pyhton数据分析:银行电话营销数据分析"
   ]
  },
  {
   "cell_type": "markdown",
   "metadata": {},
   "source": [
    "## 一、前言\n",
    "### 项目介绍：\n",
    "在我们的日常生活中，银行为我们的财产提供了基本的安全保障，便利了我们的生活，而我们在银行的一些记录信息，方便了银行对我们进行一些行为预测，本项目则根据客户的以往记录信息，预测客户是否办理存款业务。\n"
   ]
  },
  {
   "cell_type": "markdown",
   "metadata": {},
   "source": [
    "### 数据集分析\n",
    "该项目的数据集对应的任务是「分类任务」，本数据集共包含25317行，18列数据，其中字段为y的列是标签列，包含0和1两个值，0表示不订购业务，1表示订购业务，其他列是特征列\n",
    "### 字段的描述\n",
    "ID：客户唯一标识<br>\n",
    "age：客户年龄<br>\n",
    "job：客户的职业<br>\n",
    "marital：婚姻状况<br>\n",
    "education：受教育水平<br>\n",
    "default：是否有违约记录<br>\n",
    "balance：每年账户的平均余额<br>\n",
    "housing：是否有住房贷款<br>\n",
    "loan：是否有个人贷款<br>\n",
    "contact：与客户联系的沟通方式<br>\n",
    "day：最后一次联系的时间（几号）<br>\n",
    "month：最后一次联系的时间（月份）<br>\n",
    "duration：最后一次联系的交流时长<br>\n",
    "campaign：在本次活动中，与该客户交流过的次数<br>\n",
    "pdays：距离上次活动最后一次联系该客户，过去了多久<br>\n",
    "previous：在本次活动之前，与该客户交流过的次数<br>\n",
    "poutcome：上一次活动的结果<br>\n",
    "y：客户是否会订购定期存款业务，0表示不订购，1表示订购<br>"
   ]
  },
  {
   "cell_type": "markdown",
   "metadata": {},
   "source": [
    "## 二、提出问题\n",
    "* 哪个分类模型更适合预测客户是否订购定期存款业务？\n",
    "\n",
    "### 分析流程\n",
    "* 查看数据\n",
    "* 特征处理\n",
    "* 选择模型\n",
    "* 数据归一化"
   ]
  },
  {
   "cell_type": "markdown",
   "metadata": {},
   "source": [
    "## 三、探索性数据分析\n",
    "### 导入必备的库"
   ]
  },
  {
   "cell_type": "code",
   "execution_count": 1,
   "metadata": {},
   "outputs": [],
   "source": [
    "#Basic library\n",
    "import pandas as pd\n",
    "import numpy as np\n",
    "import matplotlib.pyplot as plt\n",
    "import seaborn as sns\n",
    "\n",
    "#machine learning\n",
    "from sklearn.model_selection import train_test_split\n",
    "from sklearn.model_selection import cross_val_score\n",
    "from sklearn.metrics import roc_auc_score\n",
    "from sklearn.preprocessing import LabelEncoder, MinMaxScaler\n",
    "\n",
    "#Model\n",
    "from sklearn.neighbors import KNeighborsClassifier\n",
    "from sklearn.linear_model import LogisticRegression\n",
    "from sklearn.tree import DecisionTreeClassifier\n",
    "\n",
    "#igonore warnings\n",
    "import warnings\n",
    "warnings.filterwarnings('ignore')"
   ]
  },
  {
   "cell_type": "markdown",
   "metadata": {},
   "source": [
    "### 查看数据"
   ]
  },
  {
   "cell_type": "code",
   "execution_count": 2,
   "metadata": {
    "scrolled": true
   },
   "outputs": [
    {
     "data": {
      "text/html": [
       "<div>\n",
       "<style scoped>\n",
       "    .dataframe tbody tr th:only-of-type {\n",
       "        vertical-align: middle;\n",
       "    }\n",
       "\n",
       "    .dataframe tbody tr th {\n",
       "        vertical-align: top;\n",
       "    }\n",
       "\n",
       "    .dataframe thead th {\n",
       "        text-align: right;\n",
       "    }\n",
       "</style>\n",
       "<table border=\"1\" class=\"dataframe\">\n",
       "  <thead>\n",
       "    <tr style=\"text-align: right;\">\n",
       "      <th></th>\n",
       "      <th>age</th>\n",
       "      <th>job</th>\n",
       "      <th>marital</th>\n",
       "      <th>education</th>\n",
       "      <th>default</th>\n",
       "      <th>balance</th>\n",
       "      <th>housing</th>\n",
       "      <th>loan</th>\n",
       "      <th>contact</th>\n",
       "      <th>day</th>\n",
       "      <th>month</th>\n",
       "      <th>duration</th>\n",
       "      <th>campaign</th>\n",
       "      <th>pdays</th>\n",
       "      <th>previous</th>\n",
       "      <th>poutcome</th>\n",
       "      <th>y</th>\n",
       "    </tr>\n",
       "    <tr>\n",
       "      <th>ID</th>\n",
       "      <th></th>\n",
       "      <th></th>\n",
       "      <th></th>\n",
       "      <th></th>\n",
       "      <th></th>\n",
       "      <th></th>\n",
       "      <th></th>\n",
       "      <th></th>\n",
       "      <th></th>\n",
       "      <th></th>\n",
       "      <th></th>\n",
       "      <th></th>\n",
       "      <th></th>\n",
       "      <th></th>\n",
       "      <th></th>\n",
       "      <th></th>\n",
       "      <th></th>\n",
       "    </tr>\n",
       "  </thead>\n",
       "  <tbody>\n",
       "    <tr>\n",
       "      <th>1</th>\n",
       "      <td>43</td>\n",
       "      <td>management</td>\n",
       "      <td>married</td>\n",
       "      <td>tertiary</td>\n",
       "      <td>no</td>\n",
       "      <td>291</td>\n",
       "      <td>yes</td>\n",
       "      <td>no</td>\n",
       "      <td>unknown</td>\n",
       "      <td>9</td>\n",
       "      <td>may</td>\n",
       "      <td>150</td>\n",
       "      <td>2</td>\n",
       "      <td>-1</td>\n",
       "      <td>0</td>\n",
       "      <td>unknown</td>\n",
       "      <td>0</td>\n",
       "    </tr>\n",
       "    <tr>\n",
       "      <th>2</th>\n",
       "      <td>42</td>\n",
       "      <td>technician</td>\n",
       "      <td>divorced</td>\n",
       "      <td>primary</td>\n",
       "      <td>no</td>\n",
       "      <td>5076</td>\n",
       "      <td>yes</td>\n",
       "      <td>no</td>\n",
       "      <td>cellular</td>\n",
       "      <td>7</td>\n",
       "      <td>apr</td>\n",
       "      <td>99</td>\n",
       "      <td>1</td>\n",
       "      <td>251</td>\n",
       "      <td>2</td>\n",
       "      <td>other</td>\n",
       "      <td>0</td>\n",
       "    </tr>\n",
       "    <tr>\n",
       "      <th>3</th>\n",
       "      <td>47</td>\n",
       "      <td>admin.</td>\n",
       "      <td>married</td>\n",
       "      <td>secondary</td>\n",
       "      <td>no</td>\n",
       "      <td>104</td>\n",
       "      <td>yes</td>\n",
       "      <td>yes</td>\n",
       "      <td>cellular</td>\n",
       "      <td>14</td>\n",
       "      <td>jul</td>\n",
       "      <td>77</td>\n",
       "      <td>2</td>\n",
       "      <td>-1</td>\n",
       "      <td>0</td>\n",
       "      <td>unknown</td>\n",
       "      <td>0</td>\n",
       "    </tr>\n",
       "    <tr>\n",
       "      <th>4</th>\n",
       "      <td>28</td>\n",
       "      <td>management</td>\n",
       "      <td>single</td>\n",
       "      <td>secondary</td>\n",
       "      <td>no</td>\n",
       "      <td>-994</td>\n",
       "      <td>yes</td>\n",
       "      <td>yes</td>\n",
       "      <td>cellular</td>\n",
       "      <td>18</td>\n",
       "      <td>jul</td>\n",
       "      <td>174</td>\n",
       "      <td>2</td>\n",
       "      <td>-1</td>\n",
       "      <td>0</td>\n",
       "      <td>unknown</td>\n",
       "      <td>0</td>\n",
       "    </tr>\n",
       "    <tr>\n",
       "      <th>5</th>\n",
       "      <td>42</td>\n",
       "      <td>technician</td>\n",
       "      <td>divorced</td>\n",
       "      <td>secondary</td>\n",
       "      <td>no</td>\n",
       "      <td>2974</td>\n",
       "      <td>yes</td>\n",
       "      <td>no</td>\n",
       "      <td>unknown</td>\n",
       "      <td>21</td>\n",
       "      <td>may</td>\n",
       "      <td>187</td>\n",
       "      <td>5</td>\n",
       "      <td>-1</td>\n",
       "      <td>0</td>\n",
       "      <td>unknown</td>\n",
       "      <td>0</td>\n",
       "    </tr>\n",
       "  </tbody>\n",
       "</table>\n",
       "</div>"
      ],
      "text/plain": [
       "    age         job   marital  education default  balance housing loan  \\\n",
       "ID                                                                       \n",
       "1    43  management   married   tertiary      no      291     yes   no   \n",
       "2    42  technician  divorced    primary      no     5076     yes   no   \n",
       "3    47      admin.   married  secondary      no      104     yes  yes   \n",
       "4    28  management    single  secondary      no     -994     yes  yes   \n",
       "5    42  technician  divorced  secondary      no     2974     yes   no   \n",
       "\n",
       "     contact  day month  duration  campaign  pdays  previous poutcome  y  \n",
       "ID                                                                        \n",
       "1    unknown    9   may       150         2     -1         0  unknown  0  \n",
       "2   cellular    7   apr        99         1    251         2    other  0  \n",
       "3   cellular   14   jul        77         2     -1         0  unknown  0  \n",
       "4   cellular   18   jul       174         2     -1         0  unknown  0  \n",
       "5    unknown   21   may       187         5     -1         0  unknown  0  "
      ]
     },
     "execution_count": 2,
     "metadata": {},
     "output_type": "execute_result"
    }
   ],
   "source": [
    "data_all = pd.read_csv('./dataFile/train_set.csv',index_col='ID')\n",
    "data_all.head()"
   ]
  },
  {
   "cell_type": "code",
   "execution_count": 3,
   "metadata": {},
   "outputs": [
    {
     "name": "stdout",
     "output_type": "stream",
     "text": [
      "<class 'pandas.core.frame.DataFrame'>\n",
      "Int64Index: 25317 entries, 1 to 25317\n",
      "Data columns (total 17 columns):\n",
      "age          25317 non-null int64\n",
      "job          25317 non-null object\n",
      "marital      25317 non-null object\n",
      "education    25317 non-null object\n",
      "default      25317 non-null object\n",
      "balance      25317 non-null int64\n",
      "housing      25317 non-null object\n",
      "loan         25317 non-null object\n",
      "contact      25317 non-null object\n",
      "day          25317 non-null int64\n",
      "month        25317 non-null object\n",
      "duration     25317 non-null int64\n",
      "campaign     25317 non-null int64\n",
      "pdays        25317 non-null int64\n",
      "previous     25317 non-null int64\n",
      "poutcome     25317 non-null object\n",
      "y            25317 non-null int64\n",
      "dtypes: int64(8), object(9)\n",
      "memory usage: 3.5+ MB\n"
     ]
    }
   ],
   "source": [
    "#查看数据的基本信息\n",
    "data_all.info()"
   ]
  },
  {
   "cell_type": "code",
   "execution_count": 4,
   "metadata": {},
   "outputs": [
    {
     "data": {
      "text/plain": [
       "(25317, 17)"
      ]
     },
     "execution_count": 4,
     "metadata": {},
     "output_type": "execute_result"
    }
   ],
   "source": [
    "# 查看数据data_all的维度\n",
    "data_all.shape"
   ]
  },
  {
   "cell_type": "code",
   "execution_count": 6,
   "metadata": {
    "scrolled": true
   },
   "outputs": [
    {
     "data": {
      "text/plain": [
       "age          False\n",
       "job          False\n",
       "marital      False\n",
       "education    False\n",
       "default      False\n",
       "balance      False\n",
       "housing      False\n",
       "loan         False\n",
       "contact      False\n",
       "day          False\n",
       "month        False\n",
       "duration     False\n",
       "campaign     False\n",
       "pdays        False\n",
       "previous     False\n",
       "poutcome     False\n",
       "y            False\n",
       "dtype: bool"
      ]
     },
     "execution_count": 6,
     "metadata": {},
     "output_type": "execute_result"
    }
   ],
   "source": [
    "# 查看每列数据是否包含缺失值。\n",
    "data_all.isnull().any()"
   ]
  },
  {
   "cell_type": "markdown",
   "metadata": {},
   "source": [
    "显然，数据集中不包含任何缺失值。"
   ]
  },
  {
   "cell_type": "markdown",
   "metadata": {},
   "source": [
    "### 特征处理"
   ]
  },
  {
   "cell_type": "code",
   "execution_count": 7,
   "metadata": {},
   "outputs": [
    {
     "data": {
      "text/plain": [
       "['job',\n",
       " 'marital',\n",
       " 'education',\n",
       " 'default',\n",
       " 'housing',\n",
       " 'loan',\n",
       " 'contact',\n",
       " 'month',\n",
       " 'poutcome']"
      ]
     },
     "execution_count": 7,
     "metadata": {},
     "output_type": "execute_result"
    }
   ],
   "source": [
    "# 获得data_all中列的数据类型是object的列的列名。\n",
    "data_obj_col = data_all.select_dtypes('object').columns.to_list()\n",
    "data_obj_col"
   ]
  },
  {
   "cell_type": "code",
   "execution_count": 9,
   "metadata": {
    "scrolled": true
   },
   "outputs": [
    {
     "data": {
      "text/plain": [
       "(25317, 9)"
      ]
     },
     "execution_count": 9,
     "metadata": {},
     "output_type": "execute_result"
    }
   ],
   "source": [
    "# 获得数据集中列的数据类型为object的所有数据，以及打印数据的维度\n",
    "data_obj=data_all[data_obj_col]\n",
    "data_obj.shape"
   ]
  },
  {
   "cell_type": "code",
   "execution_count": 10,
   "metadata": {},
   "outputs": [],
   "source": [
    "# 依据data_obj_col，获得数据集中列的数据类型为数值型的列的列。\n",
    "data_num_col = data_all.columns.difference(data_obj_col)"
   ]
  },
  {
   "cell_type": "code",
   "execution_count": 11,
   "metadata": {},
   "outputs": [
    {
     "data": {
      "text/plain": [
       "(25317, 8)"
      ]
     },
     "execution_count": 11,
     "metadata": {},
     "output_type": "execute_result"
    }
   ],
   "source": [
    "# 获得数据集中列的数据类型为数值型的所有数据，以及数据的维度\n",
    "data_num=data_all[data_num_col]\n",
    "data_num.shape"
   ]
  },
  {
   "cell_type": "code",
   "execution_count": 12,
   "metadata": {},
   "outputs": [
    {
     "data": {
      "text/plain": [
       "['age', 'balance', 'campaign', 'day', 'duration', 'pdays', 'previous', 'y']"
      ]
     },
     "execution_count": 12,
     "metadata": {},
     "output_type": "execute_result"
    }
   ],
   "source": [
    "# 打印data_num的列名\n",
    "data_num.columns.to_list()"
   ]
  },
  {
   "cell_type": "markdown",
   "metadata": {},
   "source": [
    "从以上输出的数据可知:\n",
    "* Object类型的列有9个\n",
    "* 数值类型的列有8个，数值类型的列名分别为：'age', 'balance', 'campaign', 'day', 'duration', 'pdays', 'previous','y'"
   ]
  },
  {
   "cell_type": "markdown",
   "metadata": {},
   "source": [
    "### 标签编码\n",
    "将object类型的列中只有两个值的列进行标签编码，将编码后的列添加到data_num数据集中"
   ]
  },
  {
   "cell_type": "code",
   "execution_count": 13,
   "metadata": {},
   "outputs": [
    {
     "data": {
      "text/plain": [
       "['default', 'housing', 'loan']"
      ]
     },
     "execution_count": 13,
     "metadata": {},
     "output_type": "execute_result"
    }
   ],
   "source": [
    "# 计算data_obj中每列中的唯一值；然后得到每一列中只有两个值的列名\n",
    "two_unique_cols = data_obj.nunique()[data_obj.nunique()==2].index.tolist()\n",
    "two_unique_cols"
   ]
  },
  {
   "cell_type": "code",
   "execution_count": 14,
   "metadata": {},
   "outputs": [],
   "source": [
    "# 对列中唯一值只有两个值的列进行标签编码，将标签编码后的数据存到data_num数据集中\n",
    "y = data_all[two_unique_cols].apply(LabelEncoder().fit_transform)\n",
    "data_num = pd.concat([y, data_num],ignore_index=False, sort=True, axis=1)"
   ]
  },
  {
   "cell_type": "code",
   "execution_count": 15,
   "metadata": {
    "scrolled": true
   },
   "outputs": [
    {
     "name": "stdout",
     "output_type": "stream",
     "text": [
      "data_num的维度是：(25317, 11)\n"
     ]
    },
    {
     "data": {
      "text/plain": [
       "Index(['default', 'housing', 'loan', 'age', 'balance', 'campaign', 'day',\n",
       "       'duration', 'pdays', 'previous', 'y'],\n",
       "      dtype='object')"
      ]
     },
     "execution_count": 15,
     "metadata": {},
     "output_type": "execute_result"
    }
   ],
   "source": [
    "# 打印data_num的维度和列名\n",
    "print('data_num的维度是：{}'.format(data_num.shape))\n",
    "data_num.columns"
   ]
  },
  {
   "cell_type": "markdown",
   "metadata": {},
   "source": [
    "### 数据抽样\n",
    "由于建模的时候，样本不平衡会对模型的训练产生很大的影响，这里将采取简单的方法对数据进行抽样，以使y中每类的样本相对平衡"
   ]
  },
  {
   "cell_type": "code",
   "execution_count": 16,
   "metadata": {
    "scrolled": false
   },
   "outputs": [
    {
     "data": {
      "text/plain": [
       "<matplotlib.axes._subplots.AxesSubplot at 0x295dbdcf9b0>"
      ]
     },
     "execution_count": 16,
     "metadata": {},
     "output_type": "execute_result"
    },
    {
     "data": {
      "image/png": "[encoded data removed]",
      "text/plain": [
       "<Figure size 432x288 with 1 Axes>"
      ]
     },
     "metadata": {
      "needs_background": "light"
     },
     "output_type": "display_data"
    }
   ],
   "source": [
    "# 使用countplot对y列的唯一值进行画图显示\n",
    "sns.countplot(data_num['y'])"
   ]
  },
  {
   "cell_type": "code",
   "execution_count": 17,
   "metadata": {
    "scrolled": true
   },
   "outputs": [
    {
     "name": "stdout",
     "output_type": "stream",
     "text": [
      "0有:22356,1有:2961\n"
     ]
    }
   ],
   "source": [
    "# 标签列y中存在两个唯一值，现在计算每个值的个数.\n",
    "data_num['y'].value_counts()\n",
    "value_0 = (data_num['y']==0).sum()\n",
    "value_1 = (data_num['y']==1).sum()\n",
    "print(\"0有:{},1有:{}\".format(value_0,value_1))"
   ]
  },
  {
   "cell_type": "markdown",
   "metadata": {},
   "source": [
    "从以上的输出和图的显示来看,y标签列的每类的样本数不一致,因此为保抽取样本的平衡，对y==0的样本进行随机抽样。"
   ]
  },
  {
   "cell_type": "code",
   "execution_count": 18,
   "metadata": {
    "scrolled": true
   },
   "outputs": [],
   "source": [
    "# 以上可知y中列存在0和1两个值，由于0包含的元素个数远远大于1的个数，现在使用sample从y为0的样本中随机抽取一些样本，\n",
    "# 要求0包含的样本数和1的样本数相同，且随机种子设定为22，\n",
    "# sample随机抽样方法：sample(n=样本数，random_state=随机种子数)\n",
    "data_num_0 = data_num[data_num['y']==0].sample(n=value_1, random_state=22)"
   ]
  },
  {
   "cell_type": "code",
   "execution_count": 19,
   "metadata": {},
   "outputs": [],
   "source": [
    "# 得到数据集中y列中为1的样本\n",
    "data_num_1=data_num[data_num['y']!=0]"
   ]
  },
  {
   "cell_type": "code",
   "execution_count": 20,
   "metadata": {},
   "outputs": [
    {
     "data": {
      "text/plain": [
       "(5922, 11)"
      ]
     },
     "execution_count": 20,
     "metadata": {},
     "output_type": "execute_result"
    }
   ],
   "source": [
    "# 将y为1的样本和随机抽取的y为0的样本进行合并，并且打印合并后数据集的维度\n",
    "data_num_sample = pd.concat([data_num_0,data_num_1], axis=0, ignore_index=False)\n",
    "data_num_sample.shape"
   ]
  },
  {
   "cell_type": "code",
   "execution_count": 21,
   "metadata": {},
   "outputs": [
    {
     "data": {
      "text/html": [
       "<div>\n",
       "<style scoped>\n",
       "    .dataframe tbody tr th:only-of-type {\n",
       "        vertical-align: middle;\n",
       "    }\n",
       "\n",
       "    .dataframe tbody tr th {\n",
       "        vertical-align: top;\n",
       "    }\n",
       "\n",
       "    .dataframe thead th {\n",
       "        text-align: right;\n",
       "    }\n",
       "</style>\n",
       "<table border=\"1\" class=\"dataframe\">\n",
       "  <thead>\n",
       "    <tr style=\"text-align: right;\">\n",
       "      <th></th>\n",
       "      <th>default</th>\n",
       "      <th>housing</th>\n",
       "      <th>loan</th>\n",
       "      <th>age</th>\n",
       "      <th>balance</th>\n",
       "      <th>campaign</th>\n",
       "      <th>day</th>\n",
       "      <th>duration</th>\n",
       "      <th>pdays</th>\n",
       "      <th>previous</th>\n",
       "      <th>y</th>\n",
       "    </tr>\n",
       "  </thead>\n",
       "  <tbody>\n",
       "    <tr>\n",
       "      <th>count</th>\n",
       "      <td>5922.000000</td>\n",
       "      <td>5922.000000</td>\n",
       "      <td>5922.000000</td>\n",
       "      <td>5922.000000</td>\n",
       "      <td>5922.000000</td>\n",
       "      <td>5922.000000</td>\n",
       "      <td>5922.000000</td>\n",
       "      <td>5922.000000</td>\n",
       "      <td>5922.000000</td>\n",
       "      <td>5922.000000</td>\n",
       "      <td>5922.000000</td>\n",
       "    </tr>\n",
       "    <tr>\n",
       "      <th>mean</th>\n",
       "      <td>0.013847</td>\n",
       "      <td>0.468929</td>\n",
       "      <td>0.126646</td>\n",
       "      <td>41.170382</td>\n",
       "      <td>1616.046099</td>\n",
       "      <td>2.473320</td>\n",
       "      <td>15.489868</td>\n",
       "      <td>378.140324</td>\n",
       "      <td>52.918102</td>\n",
       "      <td>0.863560</td>\n",
       "      <td>0.500000</td>\n",
       "    </tr>\n",
       "    <tr>\n",
       "      <th>std</th>\n",
       "      <td>0.116864</td>\n",
       "      <td>0.499076</td>\n",
       "      <td>0.332605</td>\n",
       "      <td>12.012457</td>\n",
       "      <td>3371.601168</td>\n",
       "      <td>2.745904</td>\n",
       "      <td>8.419602</td>\n",
       "      <td>353.409237</td>\n",
       "      <td>109.976587</td>\n",
       "      <td>2.284146</td>\n",
       "      <td>0.500042</td>\n",
       "    </tr>\n",
       "    <tr>\n",
       "      <th>min</th>\n",
       "      <td>0.000000</td>\n",
       "      <td>0.000000</td>\n",
       "      <td>0.000000</td>\n",
       "      <td>18.000000</td>\n",
       "      <td>-1965.000000</td>\n",
       "      <td>1.000000</td>\n",
       "      <td>1.000000</td>\n",
       "      <td>4.000000</td>\n",
       "      <td>-1.000000</td>\n",
       "      <td>0.000000</td>\n",
       "      <td>0.000000</td>\n",
       "    </tr>\n",
       "    <tr>\n",
       "      <th>25%</th>\n",
       "      <td>0.000000</td>\n",
       "      <td>0.000000</td>\n",
       "      <td>0.000000</td>\n",
       "      <td>32.000000</td>\n",
       "      <td>130.000000</td>\n",
       "      <td>1.000000</td>\n",
       "      <td>8.000000</td>\n",
       "      <td>145.000000</td>\n",
       "      <td>-1.000000</td>\n",
       "      <td>0.000000</td>\n",
       "      <td>0.000000</td>\n",
       "    </tr>\n",
       "    <tr>\n",
       "      <th>50%</th>\n",
       "      <td>0.000000</td>\n",
       "      <td>0.000000</td>\n",
       "      <td>0.000000</td>\n",
       "      <td>39.000000</td>\n",
       "      <td>574.000000</td>\n",
       "      <td>2.000000</td>\n",
       "      <td>15.000000</td>\n",
       "      <td>259.000000</td>\n",
       "      <td>-1.000000</td>\n",
       "      <td>0.000000</td>\n",
       "      <td>0.500000</td>\n",
       "    </tr>\n",
       "    <tr>\n",
       "      <th>75%</th>\n",
       "      <td>0.000000</td>\n",
       "      <td>1.000000</td>\n",
       "      <td>0.000000</td>\n",
       "      <td>49.000000</td>\n",
       "      <td>1854.750000</td>\n",
       "      <td>3.000000</td>\n",
       "      <td>21.000000</td>\n",
       "      <td>492.000000</td>\n",
       "      <td>77.750000</td>\n",
       "      <td>1.000000</td>\n",
       "      <td>1.000000</td>\n",
       "    </tr>\n",
       "    <tr>\n",
       "      <th>max</th>\n",
       "      <td>1.000000</td>\n",
       "      <td>1.000000</td>\n",
       "      <td>1.000000</td>\n",
       "      <td>95.000000</td>\n",
       "      <td>102127.000000</td>\n",
       "      <td>44.000000</td>\n",
       "      <td>31.000000</td>\n",
       "      <td>3881.000000</td>\n",
       "      <td>854.000000</td>\n",
       "      <td>58.000000</td>\n",
       "      <td>1.000000</td>\n",
       "    </tr>\n",
       "  </tbody>\n",
       "</table>\n",
       "</div>"
      ],
      "text/plain": [
       "           default      housing         loan          age        balance  \\\n",
       "count  5922.000000  5922.000000  5922.000000  5922.000000    5922.000000   \n",
       "mean      0.013847     0.468929     0.126646    41.170382    1616.046099   \n",
       "std       0.116864     0.499076     0.332605    12.012457    3371.601168   \n",
       "min       0.000000     0.000000     0.000000    18.000000   -1965.000000   \n",
       "25%       0.000000     0.000000     0.000000    32.000000     130.000000   \n",
       "50%       0.000000     0.000000     0.000000    39.000000     574.000000   \n",
       "75%       0.000000     1.000000     0.000000    49.000000    1854.750000   \n",
       "max       1.000000     1.000000     1.000000    95.000000  102127.000000   \n",
       "\n",
       "          campaign          day     duration        pdays     previous  \\\n",
       "count  5922.000000  5922.000000  5922.000000  5922.000000  5922.000000   \n",
       "mean      2.473320    15.489868   378.140324    52.918102     0.863560   \n",
       "std       2.745904     8.419602   353.409237   109.976587     2.284146   \n",
       "min       1.000000     1.000000     4.000000    -1.000000     0.000000   \n",
       "25%       1.000000     8.000000   145.000000    -1.000000     0.000000   \n",
       "50%       2.000000    15.000000   259.000000    -1.000000     0.000000   \n",
       "75%       3.000000    21.000000   492.000000    77.750000     1.000000   \n",
       "max      44.000000    31.000000  3881.000000   854.000000    58.000000   \n",
       "\n",
       "                 y  \n",
       "count  5922.000000  \n",
       "mean      0.500000  \n",
       "std       0.500042  \n",
       "min       0.000000  \n",
       "25%       0.000000  \n",
       "50%       0.500000  \n",
       "75%       1.000000  \n",
       "max       1.000000  "
      ]
     },
     "execution_count": 21,
     "metadata": {},
     "output_type": "execute_result"
    }
   ],
   "source": [
    "# 对数据集拆分为训练集和测试集之前，先检查下数据是否存在问题，调用describe，打印下数据的统计信息\n",
    "data_num_sample.describe()"
   ]
  },
  {
   "cell_type": "code",
   "execution_count": 22,
   "metadata": {},
   "outputs": [
    {
     "data": {
      "text/plain": [
       "Index(['default', 'housing', 'loan', 'age', 'balance', 'campaign', 'day',\n",
       "       'duration', 'pdays', 'previous'],\n",
       "      dtype='object')"
      ]
     },
     "execution_count": 22,
     "metadata": {},
     "output_type": "execute_result"
    }
   ],
   "source": [
    "# 将数据集中的y标签列数据存到y变量中，将其他的（特征）列存到X变量中，并且打印X的所有列的列名\n",
    "y = data_num_sample['y']\n",
    "X = data_num_sample.drop(columns='y',axis=1)\n",
    "X.columns"
   ]
  },
  {
   "cell_type": "code",
   "execution_count": 23,
   "metadata": {},
   "outputs": [],
   "source": [
    "# 将数据集X和y进行随机切分，得到训练集和测试集数据，随机种子设定为22,测试集占比1/4。\n",
    "X_train, X_test, y_train, y_test = train_test_split(X, y, random_state=22, test_size=1/4)"
   ]
  },
  {
   "cell_type": "code",
   "execution_count": 24,
   "metadata": {},
   "outputs": [
    {
     "name": "stdout",
     "output_type": "stream",
     "text": [
      "X_train的维度为(4441, 10)，X_test的维度为(1481, 10)\n"
     ]
    }
   ],
   "source": [
    "print(\"X_train的维度为{}，X_test的维度为{}\".format(X_train.shape,X_test.shape))"
   ]
  },
  {
   "cell_type": "markdown",
   "metadata": {},
   "source": [
    "## 四、选择模型"
   ]
  },
  {
   "cell_type": "markdown",
   "metadata": {},
   "source": [
    "通过以上的特征处理和数据切分，我们将抽样后的数据集随机切分为训练集和测试集，这里，将依据训练集和测试集通过交叉验证的方法来选择模型，以下将对kNN模型、逻辑回归模型和决策树模型进行训练，通过评价指标选择一个较有的模型"
   ]
  },
  {
   "cell_type": "markdown",
   "metadata": {},
   "source": [
    "train_test_model和predict_auc方法均是被调用方法，在下面的模型选择的方法中会调用这两个方法"
   ]
  },
  {
   "cell_type": "code",
   "execution_count": 25,
   "metadata": {},
   "outputs": [],
   "source": [
    "def train_test_model(clf, X_train, y_train, cv_scores, param):\n",
    "    \"\"\"\n",
    "    功能：\n",
    "        依据训练集，对模型进行训练，得到交叉验证后的评分值\n",
    "    参数：\n",
    "        clf：模型\n",
    "        param:模型参数\n",
    "        X_train:训练集\n",
    "        y_train：训练样本对应的标签\n",
    "        cv_scores：字`典类型，将得到的最终评分值存到字典中。\n",
    "\n",
    "    \"\"\"\n",
    "    # 使用10折交叉验证，roc_auc作为评价指标，对clf进行评分计算，并且对得到的评分计算均值，并且将参数和评分进行打印，\n",
    "    # 比如：参数为5，评分均值为0.76342，则打印输出为：参数=5，验证集上的AUC=0.76342\n",
    "    val_scores = cross_val_score(clf, X_train, y_train, cv=10, scoring='roc_auc')\n",
    "    score_mean = val_scores.mean()\n",
    "    print(score_mean)\n",
    "    print(\"参数={},验证集上的AUC={}\".format(param, score_mean))\n",
    "    \n",
    "    \n",
    "    \n",
    "    # 经过以上操作后，还需要将评分均值存到字典cv_scores中，其中，键为模型参数，值为得到的评分均值\n",
    "    # 比如：,则在字典中表现为{5：0.76342}\n",
    "    cv_scores[param] = score_mean"
   ]
  },
  {
   "cell_type": "code",
   "execution_count": 26,
   "metadata": {},
   "outputs": [],
   "source": [
    "def predict_auc(model,X_train,y_train,X_test,y_test):\n",
    "    \"\"\"\n",
    "    功能：\n",
    "        使用训练数据训练模型，使用训练好的模型对测试数据进行预测，进而得到模型的AUC评分\n",
    "    参数：\n",
    "        model：设置了最优参数的模型\n",
    "        X_train：训练集\n",
    "        y_train：训练数据对应的标签\n",
    "        X_test：测试集\n",
    "        y_test：测试数据对应的标签\n",
    "    返回值\n",
    "        返回模型的AUC值\n",
    "    \"\"\"\n",
    "    # 设置最优参数后，对整个训练集进行训练，然后通过predict对测试集进行预测，并将结果存入变量y_pred，使用roc_auc_score()评分方法计算模型的AUC值\n",
    "    # 将得到的AUC值进行打印，打印输出格式如：模型AUC值：0.75177973\n",
    "    model.fit(X_train, y_train)\n",
    "    y_pred = model.predict(X_test)\n",
    "    model_auc = roc_auc_score(y_pred, y_test)\n",
    "    print('模型AUC值：{}'.format(model_auc))\n",
    "\n",
    "    return model_auc\n",
    "    "
   ]
  },
  {
   "cell_type": "markdown",
   "metadata": {},
   "source": [
    "### 1.kNN模型\n",
    "k近邻法(k-nearest neighbor,k-NN)是一种基本的分类方法，对于给定的数据集，若输入一个新的实例，在训练数据集中找到与该实例最邻近的k个实例，这个k个实例的多数属于某个类，那么就把该输入实例判定为这个类。"
   ]
  },
  {
   "cell_type": "code",
   "execution_count": 27,
   "metadata": {
    "scrolled": true
   },
   "outputs": [
    {
     "name": "stdout",
     "output_type": "stream",
     "text": [
      "0.8077509534923599\n",
      "参数=5,验证集上的AUC=0.8077509534923599\n",
      "0.8175383570005726\n",
      "参数=7,验证集上的AUC=0.8175383570005726\n",
      "0.7528462119421223\n",
      "参数=2,验证集上的AUC=0.7528462119421223\n",
      "0.7822092488933985\n",
      "参数=3,验证集上的AUC=0.7822092488933985\n",
      "0.8142750349747395\n",
      "参数=6,验证集上的AUC=0.8142750349747395\n",
      "最优的参数值：7\n",
      "模型AUC值：0.7202998772646505\n"
     ]
    }
   ],
   "source": [
    "# 这里只对kNN模型的k参数进行选择，为k设定不同的值，进而得到不同的kNN模型，使用不同的kNN模型得到AUC值，进而得到最优模型的评分值\n",
    "knn_parameters = [5,7,2,3,6]\n",
    "knn_cv_scores = {}\n",
    "for param in knn_parameters:\n",
    "    knn_clf = KNeighborsClassifier(n_neighbors=param)\n",
    "    train_test_model(knn_clf, X_train, y_train,knn_cv_scores,param)\n",
    "    \n",
    "knn_best_para=max(knn_cv_scores,key=knn_cv_scores.get)\n",
    "print('最优的参数值：{}'.format(knn_best_para))\n",
    "\n",
    "# 为模型设置最优参数，训练模型，对测试集进行预测，使用roc_auc_score计算模型的AUC值\n",
    "knn_model= KNeighborsClassifier(n_neighbors=knn_best_para)\n",
    "knn_model_auc = predict_auc(knn_model,X_train,y_train,X_test,y_test)"
   ]
  },
  {
   "cell_type": "markdown",
   "metadata": {},
   "source": [
    "### 2.逻辑回归模型\n",
    "逻辑回归模型是一种分类模型，其模型输出的结果处于(0,1)之间，当输出结果大于给定的阈值时，则为A类，小于阈值为B类，由于具体的原理比较复杂，在此只对逻辑回归进行了简单的原理介绍"
   ]
  },
  {
   "cell_type": "code",
   "execution_count": 28,
   "metadata": {},
   "outputs": [
    {
     "name": "stdout",
     "output_type": "stream",
     "text": [
      "0.8623990756280264\n",
      "参数=1,验证集上的AUC=0.8623990756280264\n",
      "0.8623787155370144\n",
      "参数=3,验证集上的AUC=0.8623787155370144\n",
      "0.8624392095715059\n",
      "参数=5,验证集上的AUC=0.8624392095715059\n",
      "0.8617857855030111\n",
      "参数=10,验证集上的AUC=0.8617857855030111\n",
      "0.8622761466118669\n",
      "参数=15,验证集上的AUC=0.8622761466118669\n",
      "最优的参数值：5\n",
      "模型AUC值：0.7704903918371834\n"
     ]
    }
   ],
   "source": [
    "# 这里只对逻辑回归模型的参数C设定不同的值，根据不同的值可以得到不同的模型，依据不同模型的评分，选择最优的参数值，进而得到最终模型的评分值\n",
    "lr_parameters = [1,3,5,10,15]\n",
    "lr_cv_scores = {}\n",
    "for param in lr_parameters:\n",
    "    lr_clf = LogisticRegression(C=param)\n",
    "    train_test_model(lr_clf, X_train, y_train,lr_cv_scores,param)\n",
    "    \n",
    "lr_best_para=max(lr_cv_scores,key=lr_cv_scores.get)\n",
    "print('最优的参数值：{}'.format(lr_best_para))\n",
    "\n",
    "# 为模型设置最优参数，训练模型，对测试集进行预测，使用roc_auc_score计算模型的AUC值\n",
    "lr_model= LogisticRegression(C=lr_best_para)\n",
    "lr_model_auc = predict_auc(lr_model,X_train,y_train,X_test,y_test)"
   ]
  },
  {
   "cell_type": "markdown",
   "metadata": {},
   "source": [
    "### 3.决策树模型\n",
    "决策树也是一种分类模型，显而易见，决策树可以理解为将数据按照某种规则生成一颗形似树的结构，以实现对数据的分类。"
   ]
  },
  {
   "cell_type": "code",
   "execution_count": 29,
   "metadata": {
    "scrolled": true
   },
   "outputs": [
    {
     "name": "stdout",
     "output_type": "stream",
     "text": [
      "0.7183915142959287\n",
      "参数=1,验证集上的AUC=0.7183915142959287\n",
      "0.8312521096369881\n",
      "参数=3,验证集上的AUC=0.8312521096369881\n",
      "0.8561861778610342\n",
      "参数=5,验证集上的AUC=0.8561861778610342\n",
      "0.8021781689000533\n",
      "参数=10,验证集上的AUC=0.8021781689000533\n",
      "0.7493300003167633\n",
      "参数=15,验证集上的AUC=0.7493300003167633\n",
      "最优的参数值：5\n",
      "模型AUC值：0.7760305631026779\n"
     ]
    }
   ],
   "source": [
    "# 以下将对决策树模型的树的深度进行选择，以得到不同的模型，依据模型的评分值，得到最优的参数值，进而得到最终模型的评分值AUC\n",
    "dt_parameters = [1,3,5,10,15]\n",
    "dt_cv_scores = {}\n",
    "for param in dt_parameters:\n",
    "    dt_clf = DecisionTreeClassifier(max_depth=param)\n",
    "    train_test_model(dt_clf, X_train, y_train,dt_cv_scores,param)\n",
    "    \n",
    "dt_best_para=max(dt_cv_scores,key=dt_cv_scores.get)\n",
    "print('最优的参数值：{}'.format(dt_best_para))\n",
    "\n",
    "# 为模型设置最优参数，训练模型，对测试集进行预测，使用roc_auc_score计算模型的AUC值\n",
    "dt_model= DecisionTreeClassifier(max_depth=dt_best_para)\n",
    "dt_model_auc = predict_auc(dt_model,X_train,y_train,X_test,y_test)"
   ]
  },
  {
   "cell_type": "markdown",
   "metadata": {},
   "source": [
    "对以上三个模型进行分析，决策树模型好，因为模型AUC值值最大。"
   ]
  },
  {
   "cell_type": "markdown",
   "metadata": {},
   "source": [
    "### 数据归一化"
   ]
  },
  {
   "cell_type": "code",
   "execution_count": 30,
   "metadata": {
    "scrolled": false
   },
   "outputs": [
    {
     "data": {
      "text/html": [
       "<div>\n",
       "<style scoped>\n",
       "    .dataframe tbody tr th:only-of-type {\n",
       "        vertical-align: middle;\n",
       "    }\n",
       "\n",
       "    .dataframe tbody tr th {\n",
       "        vertical-align: top;\n",
       "    }\n",
       "\n",
       "    .dataframe thead th {\n",
       "        text-align: right;\n",
       "    }\n",
       "</style>\n",
       "<table border=\"1\" class=\"dataframe\">\n",
       "  <thead>\n",
       "    <tr style=\"text-align: right;\">\n",
       "      <th></th>\n",
       "      <th>default</th>\n",
       "      <th>housing</th>\n",
       "      <th>loan</th>\n",
       "      <th>age</th>\n",
       "      <th>balance</th>\n",
       "      <th>campaign</th>\n",
       "      <th>day</th>\n",
       "      <th>duration</th>\n",
       "      <th>pdays</th>\n",
       "      <th>previous</th>\n",
       "    </tr>\n",
       "  </thead>\n",
       "  <tbody>\n",
       "    <tr>\n",
       "      <th>count</th>\n",
       "      <td>4441.000000</td>\n",
       "      <td>4441.000000</td>\n",
       "      <td>4441.000000</td>\n",
       "      <td>4441.000000</td>\n",
       "      <td>4441.000000</td>\n",
       "      <td>4441.000000</td>\n",
       "      <td>4441.000000</td>\n",
       "      <td>4441.000000</td>\n",
       "      <td>4441.00000</td>\n",
       "      <td>4441.000000</td>\n",
       "    </tr>\n",
       "    <tr>\n",
       "      <th>mean</th>\n",
       "      <td>0.014411</td>\n",
       "      <td>0.471741</td>\n",
       "      <td>0.128575</td>\n",
       "      <td>41.186895</td>\n",
       "      <td>1587.306463</td>\n",
       "      <td>2.474218</td>\n",
       "      <td>15.548750</td>\n",
       "      <td>377.235307</td>\n",
       "      <td>53.21324</td>\n",
       "      <td>0.833146</td>\n",
       "    </tr>\n",
       "    <tr>\n",
       "      <th>std</th>\n",
       "      <td>0.119192</td>\n",
       "      <td>0.499257</td>\n",
       "      <td>0.334766</td>\n",
       "      <td>12.027061</td>\n",
       "      <td>3136.478955</td>\n",
       "      <td>2.751711</td>\n",
       "      <td>8.417989</td>\n",
       "      <td>350.516914</td>\n",
       "      <td>111.21589</td>\n",
       "      <td>2.134833</td>\n",
       "    </tr>\n",
       "    <tr>\n",
       "      <th>min</th>\n",
       "      <td>0.000000</td>\n",
       "      <td>0.000000</td>\n",
       "      <td>0.000000</td>\n",
       "      <td>18.000000</td>\n",
       "      <td>-1965.000000</td>\n",
       "      <td>1.000000</td>\n",
       "      <td>1.000000</td>\n",
       "      <td>4.000000</td>\n",
       "      <td>-1.00000</td>\n",
       "      <td>0.000000</td>\n",
       "    </tr>\n",
       "    <tr>\n",
       "      <th>25%</th>\n",
       "      <td>0.000000</td>\n",
       "      <td>0.000000</td>\n",
       "      <td>0.000000</td>\n",
       "      <td>32.000000</td>\n",
       "      <td>119.000000</td>\n",
       "      <td>1.000000</td>\n",
       "      <td>8.000000</td>\n",
       "      <td>144.000000</td>\n",
       "      <td>-1.00000</td>\n",
       "      <td>0.000000</td>\n",
       "    </tr>\n",
       "    <tr>\n",
       "      <th>50%</th>\n",
       "      <td>0.000000</td>\n",
       "      <td>0.000000</td>\n",
       "      <td>0.000000</td>\n",
       "      <td>39.000000</td>\n",
       "      <td>577.000000</td>\n",
       "      <td>2.000000</td>\n",
       "      <td>15.000000</td>\n",
       "      <td>260.000000</td>\n",
       "      <td>-1.00000</td>\n",
       "      <td>0.000000</td>\n",
       "    </tr>\n",
       "    <tr>\n",
       "      <th>75%</th>\n",
       "      <td>0.000000</td>\n",
       "      <td>1.000000</td>\n",
       "      <td>0.000000</td>\n",
       "      <td>49.000000</td>\n",
       "      <td>1853.000000</td>\n",
       "      <td>3.000000</td>\n",
       "      <td>21.000000</td>\n",
       "      <td>489.000000</td>\n",
       "      <td>64.00000</td>\n",
       "      <td>1.000000</td>\n",
       "    </tr>\n",
       "    <tr>\n",
       "      <th>max</th>\n",
       "      <td>1.000000</td>\n",
       "      <td>1.000000</td>\n",
       "      <td>1.000000</td>\n",
       "      <td>93.000000</td>\n",
       "      <td>81204.000000</td>\n",
       "      <td>44.000000</td>\n",
       "      <td>31.000000</td>\n",
       "      <td>3881.000000</td>\n",
       "      <td>854.00000</td>\n",
       "      <td>37.000000</td>\n",
       "    </tr>\n",
       "  </tbody>\n",
       "</table>\n",
       "</div>"
      ],
      "text/plain": [
       "           default      housing         loan          age       balance  \\\n",
       "count  4441.000000  4441.000000  4441.000000  4441.000000   4441.000000   \n",
       "mean      0.014411     0.471741     0.128575    41.186895   1587.306463   \n",
       "std       0.119192     0.499257     0.334766    12.027061   3136.478955   \n",
       "min       0.000000     0.000000     0.000000    18.000000  -1965.000000   \n",
       "25%       0.000000     0.000000     0.000000    32.000000    119.000000   \n",
       "50%       0.000000     0.000000     0.000000    39.000000    577.000000   \n",
       "75%       0.000000     1.000000     0.000000    49.000000   1853.000000   \n",
       "max       1.000000     1.000000     1.000000    93.000000  81204.000000   \n",
       "\n",
       "          campaign          day     duration       pdays     previous  \n",
       "count  4441.000000  4441.000000  4441.000000  4441.00000  4441.000000  \n",
       "mean      2.474218    15.548750   377.235307    53.21324     0.833146  \n",
       "std       2.751711     8.417989   350.516914   111.21589     2.134833  \n",
       "min       1.000000     1.000000     4.000000    -1.00000     0.000000  \n",
       "25%       1.000000     8.000000   144.000000    -1.00000     0.000000  \n",
       "50%       2.000000    15.000000   260.000000    -1.00000     0.000000  \n",
       "75%       3.000000    21.000000   489.000000    64.00000     1.000000  \n",
       "max      44.000000    31.000000  3881.000000   854.00000    37.000000  "
      ]
     },
     "execution_count": 30,
     "metadata": {},
     "output_type": "execute_result"
    }
   ],
   "source": [
    "# 先观察下训练集的特征,查看特征的量纲具有什么特点\n",
    "X_train.describe()"
   ]
  },
  {
   "cell_type": "markdown",
   "metadata": {},
   "source": [
    "回答：从以上的统计信息中，可以知道，特征与特征之间的量纲不一致，因此需要对特征值进行归一化处理。"
   ]
  },
  {
   "cell_type": "markdown",
   "metadata": {},
   "source": [
    "#### 归一化\n",
    "对训练数据和测试集数据做归一化"
   ]
  },
  {
   "cell_type": "code",
   "execution_count": 31,
   "metadata": {},
   "outputs": [],
   "source": [
    "# 使用MinMaxScaler对训练集X_train和测试集X_test进行归一化\n",
    "scaler = MinMaxScaler()\n",
    "X_train_scaled = scaler.fit_transform(X_train.astype('float64'))\n",
    "X_test_scaled = scaler.transform(X_test.astype('float64'))"
   ]
  },
  {
   "cell_type": "markdown",
   "metadata": {},
   "source": [
    "由于以下训练模型的代码以上的代码类似，若是感兴趣的同学，可以将以下给出的kNN模型,逻辑回归模型和决策树模型的代码删除掉，然后尝试自己写代码，完成模型的训练"
   ]
  },
  {
   "cell_type": "markdown",
   "metadata": {},
   "source": [
    "#### kNN模型"
   ]
  },
  {
   "cell_type": "code",
   "execution_count": 32,
   "metadata": {
    "scrolled": false
   },
   "outputs": [
    {
     "name": "stdout",
     "output_type": "stream",
     "text": [
      "0.8362348007709579\n",
      "参数=5,验证集上的AUC=0.8362348007709579\n",
      "0.844031883023167\n",
      "参数=7,验证集上的AUC=0.844031883023167\n",
      "0.795107142467294\n",
      "参数=2,验证集上的AUC=0.795107142467294\n",
      "0.8216005781567567\n",
      "参数=3,验证集上的AUC=0.8216005781567567\n",
      "0.8418551395164939\n",
      "参数=6,验证集上的AUC=0.8418551395164939\n",
      "最优的参数值：7\n",
      "模型AUC值：0.7633043955039752\n"
     ]
    }
   ],
   "source": [
    "knn_scaler_parameters = [5,7,2,3,6]\n",
    "knn_scaler_cv_scores = {}\n",
    "for param in knn_scaler_parameters:\n",
    "    knn_scaler_clf = KNeighborsClassifier(n_neighbors=param)\n",
    "    train_test_model(knn_scaler_clf, X_train_scaled, y_train,knn_scaler_cv_scores,param)\n",
    "    \n",
    "knn_scaler_best_para=max(knn_scaler_cv_scores,key=knn_scaler_cv_scores.get)\n",
    "print('最优的参数值：{}'.format(knn_scaler_best_para))\n",
    "\n",
    "# 为模型设置最优参数，训练模型，对测试集进行预测，使用roc_auc_score计算模型的AUC值\n",
    "knn_scaler_model= KNeighborsClassifier(n_neighbors=knn_scaler_best_para)\n",
    "knn_scaler_model_auc = predict_auc(knn_scaler_model,X_train_scaled,y_train,X_test_scaled,y_test)"
   ]
  },
  {
   "cell_type": "markdown",
   "metadata": {},
   "source": [
    "#### 逻辑回归模型"
   ]
  },
  {
   "cell_type": "code",
   "execution_count": 33,
   "metadata": {
    "scrolled": true
   },
   "outputs": [
    {
     "name": "stdout",
     "output_type": "stream",
     "text": [
      "0.8576315184282677\n",
      "参数=1,验证集上的AUC=0.8576315184282677\n",
      "0.8610214502261355\n",
      "参数=3,验证集上的AUC=0.8610214502261355\n",
      "0.8617095314058393\n",
      "参数=5,验证集上的AUC=0.8617095314058393\n",
      "0.8620709066888409\n",
      "参数=10,验证集上的AUC=0.8620709066888409\n",
      "0.8622355155684189\n",
      "参数=15,验证集上的AUC=0.8622355155684189\n",
      "最优的参数值：15\n",
      "模型AUC值：0.7691338914433311\n"
     ]
    }
   ],
   "source": [
    "lr_scaler_parameters = [1,3,5,10,15]\n",
    "lr_scaler_cv_scores = {}\n",
    "for param in lr_scaler_parameters:\n",
    "    lr_scaler_clf = LogisticRegression(C=param)\n",
    "    train_test_model(lr_scaler_clf, X_train_scaled, y_train,lr_scaler_cv_scores,param)\n",
    "    \n",
    "lr_scaler_best_para=max(lr_scaler_cv_scores,key=lr_scaler_cv_scores.get)\n",
    "print('最优的参数值：{}'.format(lr_scaler_best_para))\n",
    "\n",
    "# 为模型设置最优参数，训练模型，对测试集进行预测，使用roc_auc_score计算模型的AUC值\n",
    "lr_scaler_model= LogisticRegression(C=lr_scaler_best_para)\n",
    "lr_scaler_model_auc = predict_auc(lr_scaler_model,X_train_scaled,y_train,X_test_scaled,y_test)"
   ]
  },
  {
   "cell_type": "markdown",
   "metadata": {},
   "source": [
    "#### 决策树模型"
   ]
  },
  {
   "cell_type": "code",
   "execution_count": 34,
   "metadata": {
    "scrolled": true
   },
   "outputs": [
    {
     "name": "stdout",
     "output_type": "stream",
     "text": [
      "0.7183915142959287\n",
      "参数=1,验证集上的AUC=0.7183915142959287\n",
      "0.8312521096369881\n",
      "参数=3,验证集上的AUC=0.8312521096369881\n",
      "0.8566254157311546\n",
      "参数=5,验证集上的AUC=0.8566254157311546\n",
      "0.8051230940708141\n",
      "参数=10,验证集上的AUC=0.8051230940708141\n",
      "0.748734443042695\n",
      "参数=15,验证集上的AUC=0.748734443042695\n",
      "最优的参数值：5\n",
      "模型AUC值：0.7767016204516204\n"
     ]
    }
   ],
   "source": [
    "dt_scaler_parameters = [1,3,5,10,15]\n",
    "dt_scaler_cv_scores = {}\n",
    "for param in dt_scaler_parameters:\n",
    "    dt_scaler_clf = DecisionTreeClassifier(max_depth=param)\n",
    "    train_test_model(dt_scaler_clf, X_train_scaled, y_train,dt_scaler_cv_scores,param)\n",
    "    \n",
    "dt_scaler_best_para=max(dt_scaler_cv_scores,key=dt_scaler_cv_scores.get)\n",
    "print('最优的参数值：{}'.format(dt_scaler_best_para))\n",
    "\n",
    "# 为模型设置最优参数，训练模型，对测试集进行预测，使用roc_auc_score计算模型的AUC值\n",
    "dt_scaler_model= DecisionTreeClassifier(max_depth=dt_scaler_best_para)\n",
    "dt_scaler_model_auc = predict_auc(dt_scaler_model,X_train_scaled,y_train,X_test_scaled,y_test)"
   ]
  },
  {
   "cell_type": "markdown",
   "metadata": {},
   "source": [
    "#### 将未归一化和归一化后的数据得到的模型AUC值进行合并"
   ]
  },
  {
   "cell_type": "code",
   "execution_count": 35,
   "metadata": {},
   "outputs": [
    {
     "data": {
      "text/html": [
       "<div>\n",
       "<style scoped>\n",
       "    .dataframe tbody tr th:only-of-type {\n",
       "        vertical-align: middle;\n",
       "    }\n",
       "\n",
       "    .dataframe tbody tr th {\n",
       "        vertical-align: top;\n",
       "    }\n",
       "\n",
       "    .dataframe thead th {\n",
       "        text-align: right;\n",
       "    }\n",
       "</style>\n",
       "<table border=\"1\" class=\"dataframe\">\n",
       "  <thead>\n",
       "    <tr style=\"text-align: right;\">\n",
       "      <th></th>\n",
       "      <th>Not Scaled (%)</th>\n",
       "      <th>Scaled (%)</th>\n",
       "    </tr>\n",
       "  </thead>\n",
       "  <tbody>\n",
       "    <tr>\n",
       "      <th>kNN</th>\n",
       "      <td>0.720300</td>\n",
       "      <td>0.763304</td>\n",
       "    </tr>\n",
       "    <tr>\n",
       "      <th>LR</th>\n",
       "      <td>0.770490</td>\n",
       "      <td>0.769134</td>\n",
       "    </tr>\n",
       "    <tr>\n",
       "      <th>DT</th>\n",
       "      <td>0.776031</td>\n",
       "      <td>0.776702</td>\n",
       "    </tr>\n",
       "  </tbody>\n",
       "</table>\n",
       "</div>"
      ],
      "text/plain": [
       "     Not Scaled (%)  Scaled (%)\n",
       "kNN        0.720300    0.763304\n",
       "LR         0.770490    0.769134\n",
       "DT         0.776031    0.776702"
      ]
     },
     "execution_count": 35,
     "metadata": {},
     "output_type": "execute_result"
    }
   ],
   "source": [
    "col_name = ['Not Scaled (%)', 'Scaled (%)']\n",
    "row_name = ['kNN','LR','DT']\n",
    "# 创建dataframe结构的变量models_auc_df，列索引设置为col_name,行索引设置为row_name，将未归一化和归一化的AUC值按照索引存放到对应的位置，\n",
    "# 其中未归一化模型的AUC值分别为knn_model_auc,lr_model_auc,dt_model_auc，归一化后的模型AUC值分别为knn_scaler_model_auc,lr_scaler_model_auc,dt_scaler_model_auc\n",
    "# 然后将数据models_auc_df的数据进行打印\n",
    "\n",
    "models_auc_df = pd.DataFrame([[knn_model_auc,knn_scaler_model_auc],[lr_model_auc,lr_scaler_model_auc],[dt_model_auc,dt_scaler_model_auc]],\n",
    "                              columns=col_name,index=row_name)\n",
    "models_auc_df"
   ]
  },
  {
   "cell_type": "code",
   "execution_count": 36,
   "metadata": {
    "scrolled": true
   },
   "outputs": [
    {
     "data": {
      "text/plain": [
       "(array([0, 1, 2]), <a list of 3 Text xticklabel objects>)"
      ]
     },
     "execution_count": 36,
     "metadata": {},
     "output_type": "execute_result"
    },
    {
     "data": {
      "text/plain": [
       "<Figure size 2400x1440 with 0 Axes>"
      ]
     },
     "metadata": {},
     "output_type": "display_data"
    },
    {
     "data": {
      "image/png": "[encoded data removed]",
      "text/plain": [
       "<Figure size 432x288 with 1 Axes>"
      ]
     },
     "metadata": {
      "needs_background": "light"
     },
     "output_type": "display_data"
    }
   ],
   "source": [
    "# 为未归一化和归一化的数据绘制分组柱状图，可视化的图和下图相似即可\n",
    "# 对models_auc_df数据进行可视化，要求设置图例到右下角，标题为未归一化和归一化数据的模型AUC值比较\n",
    "\n",
    "#解决图例中文显示问题，设置字体样式\n",
    "plt.rcParams['font.sans-serif']=['SimHei']  \n",
    "plt.rcParams['axes.unicode_minus']=False \n",
    "\n",
    "#创建画布\n",
    "plt.figure(figsize=(20,12), dpi=120)\n",
    "\n",
    "models_auc_df.plot(kind='bar')\n",
    "\n",
    "plt.xticks(rotation=360)"
   ]
  },
  {
   "cell_type": "markdown",
   "metadata": {},
   "source": [
    "问题：依据对未归一化和归一化后的数据训练模型，通过对模型的AUC值进行比较，我们可以得到哪些结论"
   ]
  },
  {
   "cell_type": "markdown",
   "metadata": {},
   "source": [
    "回答：归一化能有效提高KNN模型的AUC值，但是对逻辑回归和决策树的影响不大"
   ]
  }
 ],
 "metadata": {
  "kernelspec": {
   "display_name": "Python 3",
   "language": "python",
   "name": "python3"
  },
  "language_info": {
   "codemirror_mode": {
    "name": "ipython",
    "version": 3
   },
   "file_extension": ".py",
   "mimetype": "text/x-python",
   "name": "python",
   "nbconvert_exporter": "python",
   "pygments_lexer": "ipython3",
   "version": "3.6.8"
  }
 },
 "nbformat": 4,
 "nbformat_minor": 2
}
